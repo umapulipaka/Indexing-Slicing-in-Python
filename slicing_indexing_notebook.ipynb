{
 "cells": [
  {
   "cell_type": "markdown",
   "id": "0fd865af",
   "metadata": {},
   "source": [
    "# Python Slicing & Indexing notes\n",
    "This notebook covers all possible slicing and indexing techniques across data types in Python, complete with examples."
   ]
  },
  {
   "cell_type": "markdown",
   "id": "a587766b",
   "metadata": {},
   "source": [
    "## 1. Lists"
   ]
  },
  {
   "cell_type": "code",
   "execution_count": 1,
   "id": "3ef75c98",
   "metadata": {},
   "outputs": [
    {
     "name": "stdout",
     "output_type": "stream",
     "text": [
      "First element: 10\n",
      "Last element: 60\n",
      "Slice from index 1 to 4: [20, 30, 40]\n",
      "Slice from beginning to index 2: [10, 20, 30]\n",
      "Slice from index 3 to end: [40, 50, 60]\n",
      "Every second element: [10, 30, 50]\n",
      "Reversed list: [60, 50, 40, 30, 20, 10]\n",
      "Modified list: [10, 99, 88, 40, 50, 60]\n",
      "List after deletion: [10, 99, 50, 60]\n"
     ]
    }
   ],
   "source": [
    "\n",
    "my_list = [10, 20, 30, 40, 50, 60]\n",
    "\n",
    "# Indexing\n",
    "print(\"First element:\", my_list[0])\n",
    "print(\"Last element:\", my_list[-1])\n",
    "\n",
    "# Slicing\n",
    "print(\"Slice from index 1 to 4:\", my_list[1:4])\n",
    "print(\"Slice from beginning to index 2:\", my_list[:3])\n",
    "print(\"Slice from index 3 to end:\", my_list[3:])\n",
    "print(\"Every second element:\", my_list[::2])\n",
    "print(\"Reversed list:\", my_list[::-1])\n",
    "\n",
    "# Modifying with slicing\n",
    "my_list[1:3] = [99, 88]\n",
    "print(\"Modified list:\", my_list)\n",
    "\n",
    "# Deleting with slicing\n",
    "del my_list[2:4]\n",
    "print(\"List after deletion:\", my_list)\n"
   ]
  },
  {
   "cell_type": "markdown",
   "id": "3f02d85d",
   "metadata": {},
   "source": [
    "## 2. Strings"
   ]
  },
  {
   "cell_type": "code",
   "execution_count": 2,
   "id": "7ffe36de",
   "metadata": {},
   "outputs": [
    {
     "name": "stdout",
     "output_type": "stream",
     "text": [
      "First character: M\n",
      "Last character: s\n",
      "Characters 1 to 5: aster\n",
      "First 6 characters: Master\n",
      "Last 5 characters: Class\n",
      "Reversed string: ssalCretsaM\n",
      "Every 2nd character: MseCas\n"
     ]
    }
   ],
   "source": [
    "\n",
    "text = \"MasterClass\"\n",
    "\n",
    "# Indexing\n",
    "print(\"First character:\", text[0])\n",
    "print(\"Last character:\", text[-1])\n",
    "\n",
    "# Slicing\n",
    "print(\"Characters 1 to 5:\", text[1:6])\n",
    "print(\"First 6 characters:\", text[:6])\n",
    "print(\"Last 5 characters:\", text[-5:])\n",
    "print(\"Reversed string:\", text[::-1])\n",
    "print(\"Every 2nd character:\", text[::2])\n"
   ]
  },
  {
   "cell_type": "markdown",
   "id": "b0d90169",
   "metadata": {},
   "source": [
    "## 3. Tuples"
   ]
  },
  {
   "cell_type": "code",
   "execution_count": 3,
   "id": "4a27151b",
   "metadata": {},
   "outputs": [
    {
     "name": "stdout",
     "output_type": "stream",
     "text": [
      "Element at index 2: 3\n",
      "First 3 elements: (1, 2, 3)\n",
      "Tuple in reverse: (5, 4, 3, 2, 1)\n"
     ]
    }
   ],
   "source": [
    "\n",
    "my_tuple = (1, 2, 3, 4, 5)\n",
    "\n",
    "# Indexing\n",
    "print(\"Element at index 2:\", my_tuple[2])\n",
    "\n",
    "# Slicing\n",
    "print(\"First 3 elements:\", my_tuple[:3])\n",
    "print(\"Tuple in reverse:\", my_tuple[::-1])\n"
   ]
  },
  {
   "cell_type": "markdown",
   "id": "19423cf2",
   "metadata": {},
   "source": [
    "## 4. Ranges"
   ]
  },
  {
   "cell_type": "code",
   "execution_count": 4,
   "id": "7ba617dc",
   "metadata": {},
   "outputs": [
    {
     "name": "stdout",
     "output_type": "stream",
     "text": [
      "Element at index 3: 3\n",
      "Slice from 2 to 7: [2, 3, 4, 5, 6]\n",
      "Every 2nd element: [0, 2, 4, 6, 8]\n"
     ]
    }
   ],
   "source": [
    "\n",
    "r = range(10)\n",
    "\n",
    "# Indexing\n",
    "print(\"Element at index 3:\", r[3])\n",
    "\n",
    "# Slicing\n",
    "print(\"Slice from 2 to 7:\", list(r[2:7]))\n",
    "print(\"Every 2nd element:\", list(r[::2]))\n"
   ]
  },
  {
   "cell_type": "markdown",
   "id": "e6a9bd72",
   "metadata": {},
   "source": [
    "## 5. NumPy Arrays"
   ]
  },
  {
   "cell_type": "code",
   "execution_count": 5,
   "id": "5c2ab27e",
   "metadata": {},
   "outputs": [
    {
     "name": "stdout",
     "output_type": "stream",
     "text": [
      "Element at index 2: 30\n",
      "Matrix element at row 1, col 2: 6\n",
      "Array slice 1 to 4: [20 30 40]\n",
      "Matrix row 0: [1 2 3]\n",
      "Matrix column 1: [2 5]\n",
      "Reversed array: [50 40 30 20 10]\n"
     ]
    }
   ],
   "source": [
    "\n",
    "import numpy as np\n",
    "\n",
    "arr = np.array([10, 20, 30, 40, 50])\n",
    "matrix = np.array([[1, 2, 3], [4, 5, 6]])\n",
    "\n",
    "# Indexing\n",
    "print(\"Element at index 2:\", arr[2])\n",
    "print(\"Matrix element at row 1, col 2:\", matrix[1, 2])\n",
    "\n",
    "# Slicing\n",
    "print(\"Array slice 1 to 4:\", arr[1:4])\n",
    "print(\"Matrix row 0:\", matrix[0, :])\n",
    "print(\"Matrix column 1:\", matrix[:, 1])\n",
    "print(\"Reversed array:\", arr[::-1])\n"
   ]
  },
  {
   "cell_type": "markdown",
   "id": "c1d3ab03",
   "metadata": {},
   "source": [
    "## 6. Pandas Series & DataFrames"
   ]
  },
  {
   "cell_type": "code",
   "execution_count": 6,
   "id": "97cc4f23",
   "metadata": {},
   "outputs": [
    {
     "name": "stdout",
     "output_type": "stream",
     "text": [
      "Element at index 'b': 200\n",
      "From 'b' to 'd':\n",
      " b    200\n",
      "c    300\n",
      "d    400\n",
      "dtype: int64\n",
      "Row at position 1:\n",
      " name    Bob\n",
      "age      30\n",
      "Name: 1, dtype: object\n",
      "Rows from 0 to 1:\n",
      "     name  age\n",
      "0  Alice   25\n",
      "1    Bob   30\n",
      "Ages column:\n",
      " 0    25\n",
      "1    30\n",
      "2    35\n",
      "Name: age, dtype: int64\n"
     ]
    }
   ],
   "source": [
    "\n",
    "import pandas as pd\n",
    "\n",
    "# Series\n",
    "s = pd.Series([100, 200, 300, 400], index=['a', 'b', 'c', 'd'])\n",
    "\n",
    "# Indexing\n",
    "print(\"Element at index 'b':\", s['b'])\n",
    "\n",
    "# Slicing (label-based)\n",
    "print(\"From 'b' to 'd':\\n\", s['b':'d'])\n",
    "\n",
    "# DataFrame\n",
    "df = pd.DataFrame({'name': ['Alice', 'Bob', 'Charlie'], 'age': [25, 30, 35]})\n",
    "\n",
    "# Indexing rows\n",
    "print(\"Row at position 1:\\n\", df.iloc[1])\n",
    "print(\"Rows from 0 to 1:\\n\", df.loc[0:1])\n",
    "\n",
    "# Indexing columns\n",
    "print(\"Ages column:\\n\", df['age'])\n"
   ]
  },
  {
   "cell_type": "markdown",
   "id": "5ca1727f",
   "metadata": {},
   "source": [
    "## 8. Special Situations"
   ]
  },
  {
   "cell_type": "code",
   "execution_count": 8,
   "id": "e4c976fb",
   "metadata": {},
   "outputs": [
    {
     "name": "stdout",
     "output_type": "stream",
     "text": [
      "Reverse 'DataScience': ecneicSataD\n",
      "Every 3rd element: [0, 3, 6, 9, 12, 15, 18, 21, 24, 27]\n",
      "Middle replaced: [0, 1, 2, 3, 4, 5, 6, 7, 8, 9, 0, 0, 0, 13, 14, 15, 16, 17, 18, 19, 20, 21, 22, 23, 24, 25, 26, 27, 28, 29]\n",
      "Trimmed tuple: (2, 3, 4)\n",
      "2nd row: [4 5 6]\n",
      "1st column: [1 4]\n"
     ]
    }
   ],
   "source": [
    "\n",
    "# Reverse a string\n",
    "print(\"Reverse 'DataScience':\", \"DataScience\"[::-1])\n",
    "\n",
    "# Get every 3rd element from list\n",
    "sample_list = list(range(30))\n",
    "print(\"Every 3rd element:\", sample_list[::3])\n",
    "\n",
    "# Replace middle 3 values\n",
    "sample_list[10:13] = [0, 0, 0]\n",
    "print(\"Middle replaced:\", sample_list)\n",
    "\n",
    "# Remove first and last elements from tuple\n",
    "my_tuple = (1, 2, 3, 4, 5)\n",
    "print(\"Trimmed tuple:\", my_tuple[1:-1])\n",
    "\n",
    "# Slice a 2D NumPy array to get specific row and column\n",
    "matrix = np.array([[1, 2, 3], [4, 5, 6]])\n",
    "print(\"2nd row:\", matrix[1])\n",
    "print(\"1st column:\", matrix[:, 0])\n"
   ]
  },
  {
   "cell_type": "markdown",
   "id": "353d80a3",
   "metadata": {},
   "source": [
    "## 9. Using `slice()` Object Directly"
   ]
  },
  {
   "cell_type": "code",
   "execution_count": 9,
   "id": "15f7f25f",
   "metadata": {},
   "outputs": [
    {
     "name": "stdout",
     "output_type": "stream",
     "text": [
      "Using slice object: [1, 3]\n"
     ]
    }
   ],
   "source": [
    "\n",
    "s = slice(1, 5, 2)\n",
    "lst = [0, 1, 2, 3, 4, 5]\n",
    "print(\"Using slice object:\", lst[s])\n"
   ]
  }
 ],
 "metadata": {
  "kernelspec": {
   "display_name": "Python 3 (ipykernel)",
   "language": "python",
   "name": "python3"
  },
  "language_info": {
   "codemirror_mode": {
    "name": "ipython",
    "version": 3
   },
   "file_extension": ".py",
   "mimetype": "text/x-python",
   "name": "python",
   "nbconvert_exporter": "python",
   "pygments_lexer": "ipython3",
   "version": "3.12.7"
  }
 },
 "nbformat": 4,
 "nbformat_minor": 5
}
